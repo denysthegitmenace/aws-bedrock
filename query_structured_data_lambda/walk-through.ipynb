{
 "cells": [
  {
   "cell_type": "markdown",
   "id": "5ab7f256-432c-4037-8da1-52d05031c382",
   "metadata": {},
   "source": [
    "## imports"
   ]
  },
  {
   "cell_type": "code",
   "execution_count": 12,
   "id": "ca260355-0b01-4dd9-90e1-27d7147b018c",
   "metadata": {},
   "outputs": [],
   "source": [
    "import csv\n",
    "import logging\n",
    "import os\n",
    "import sys\n",
    "import json\n",
    "\n",
    "import boto3\n",
    "from sqlalchemy import create_engine\n",
    "\n",
    "from llama_index.core import SQLDatabase, VectorStoreIndex\n",
    "from llama_index.core.indices.struct_store import SQLTableRetrieverQueryEngine\n",
    "from llama_index.core.objects import ObjectIndex, SQLTableNodeMapping, SQLTableSchema\n",
    "from llama_index.core.prompts import Prompt, PromptTemplate\n",
    "from llama_index.core.schema import TextNode\n",
    "from llama_index.embeddings.bedrock import BedrockEmbedding\n",
    "from llama_index.llms.bedrock import Bedrock\n",
    "\n",
    "from prompt_templates import RESPONSE_TEMPLATE_STR, SQL_TEMPLATE_STR, TABLE_DETAILS"
   ]
  },
  {
   "cell_type": "markdown",
   "id": "693c0dc8-5b3c-4bf3-af33-97ea0a8f98b4",
   "metadata": {},
   "source": [
    "## logging"
   ]
  },
  {
   "cell_type": "code",
   "execution_count": 2,
   "id": "6d48ac3d-946b-4967-84a7-79de88e46569",
   "metadata": {},
   "outputs": [],
   "source": [
    "logging.basicConfig(stream=sys.stdout, level=logging.INFO)"
   ]
  },
  {
   "cell_type": "markdown",
   "id": "0b1d0393-a691-425c-878e-16cd814474e1",
   "metadata": {},
   "source": [
    "## variables & connections"
   ]
  },
  {
   "cell_type": "code",
   "execution_count": 3,
   "id": "e1787e9e-edb8-4eba-902e-ecdbe3d1f16d",
   "metadata": {},
   "outputs": [
    {
     "name": "stdout",
     "output_type": "stream",
     "text": [
      "INFO:botocore.credentials:Found credentials in environment variables.\n",
      "INFO:botocore.credentials:Found credentials in environment variables.\n"
     ]
    }
   ],
   "source": [
    "region = \"us-east-1\"\n",
    "athena_bucket_name = os.getenv(\"ATHENA_BUCKET_NAME\")\n",
    "text2sql_database = \"main\"\n",
    "\n",
    "# athena connection url for pulling metadata and querying\n",
    "athena_connection_url = f\"awsathena+rest://athena.{region}.amazonaws.com/{text2sql_database}?s3_staging_dir=s3://{athena_bucket_name}\"\n",
    "\n",
    "# used for embeddings\n",
    "bedrock_client = boto3.client(\"bedrock-runtime\", region_name=region)\n",
    "embed_model = BedrockEmbedding(model_name=\"amazon.titan-embed-g1-text-02\", region_name=region)\n",
    "fewshot_examples_path = \"dynamic_examples.csv\"\n",
    "NUM_FEW_SHOT_EXAMPLES_TO_CONSIDER = 2"
   ]
  },
  {
   "cell_type": "code",
   "execution_count": 5,
   "id": "24447708-5739-4a7e-95f4-e2d5a2e6a51b",
   "metadata": {},
   "outputs": [],
   "source": [
    "# embeddings = embed_model.get_text_embedding(\"hello world\")\n",
    "# print(embeddings)"
   ]
  },
  {
   "cell_type": "markdown",
   "id": "f255dfa3-b466-4b00-8edf-e938427deec0",
   "metadata": {},
   "source": [
    "## 1. few-shot examples retrieval"
   ]
  },
  {
   "cell_type": "code",
   "execution_count": 6,
   "id": "3b7836ea-5529-4748-8679-ccce99d3371a",
   "metadata": {},
   "outputs": [],
   "source": [
    "def get_few_shot_examples(embed_model, user_input, fewshot_examples_path, **kwargs):\n",
    "    with open(fewshot_examples_path, newline=\"\", encoding=\"utf-8-sig\") as csvfile:\n",
    "        reader = csv.DictReader(csvfile, skipinitialspace=True)\n",
    "        data_dict = {row[\"example_input_question\"]: row for row in reader}\n",
    "        few_shot_nodes = [TextNode(text=json.dumps(q)) for q in data_dict.keys()]\n",
    "\n",
    "    # VectorStoreIndex takes your Documents and splits them up into Nodes.\n",
    "    # It then creates vector embeddings of the text of every node, ready to be queried by an LLM.\n",
    "    # Vector stores accept a list of Node objects and build an index from them\n",
    "\n",
    "    few_shot_index = VectorStoreIndex(few_shot_nodes, embed_model=embed_model)\n",
    "    few_shot_retriever = few_shot_index.as_retriever(similarity_top_k=NUM_FEW_SHOT_EXAMPLES_TO_CONSIDER)\n",
    "\n",
    "    retrieved_nodes = few_shot_retriever.retrieve(user_input)\n",
    "    result_strs = []\n",
    "    for node in retrieved_nodes:\n",
    "        content = json.loads(node.get_content())\n",
    "        raw_dict = data_dict[content]\n",
    "        example = [f\"{k.capitalize()}: {v}\" for k, v in raw_dict.items()]\n",
    "        result_strs.append(\"\\n\".join(example))\n",
    "\n",
    "    example_set = \"\\n\\n\".join(result_strs)\n",
    "    logging.info(f\"Example set provided:\\n{example_set}\")\n",
    "    return example_set"
   ]
  },
  {
   "cell_type": "markdown",
   "id": "ed304dc3-d0b2-48e3-a030-91c27a43b27d",
   "metadata": {},
   "source": [
    "## 2. database schema retrieval"
   ]
  },
  {
   "cell_type": "code",
   "execution_count": 7,
   "id": "15b8b16f-7f0c-43b3-83cc-48701270adca",
   "metadata": {},
   "outputs": [
    {
     "name": "stdout",
     "output_type": "stream",
     "text": [
      "INFO:botocore.credentials:Found credentials in environment variables.\n"
     ]
    },
    {
     "name": "stderr",
     "output_type": "stream",
     "text": [
      "/var/folders/z_/c85qmqsj3cn_2l34vyq1twm00000gn/T/ipykernel_89004/1420963312.py:2: SADeprecationWarning: The dbapi() classmethod on dialect classes has been renamed to import_dbapi().  Implement an import_dbapi() classmethod directly on class <class 'pyathena.sqlalchemy.rest.AthenaRestDialect'> to remove this warning; the old .dbapi() classmethod may be maintained for backwards compatibility.\n",
      "  sql_engine = create_engine(athena_connection_url)\n"
     ]
    }
   ],
   "source": [
    "## get connect to db\n",
    "sql_engine = create_engine(athena_connection_url)\n",
    "sql_database = SQLDatabase(sql_engine)\n",
    "\n",
    "# list of lightweight representations of a SQL tables: name & context string\n",
    "table_schema_objs = [\n",
    "    SQLTableSchema(table_name=table, context_str=TABLE_DETAILS[table])\n",
    "    for table in sql_database._all_tables\n",
    "]\n",
    "\n",
    "# takes in a SQLDatabase and produces a Node object for each SQLTableSchema object passed into the ObjectIndex constructor below\n",
    "table_node_mapper = SQLTableNodeMapping(sql_database)\n",
    "\n",
    "# gives us a VectorStoreIndex where each Node contains table schema\n",
    "obj_index = ObjectIndex.from_objects(\n",
    "    table_schema_objs, table_node_mapper, VectorStoreIndex, embed_model=embed_model\n",
    ")"
   ]
  },
  {
   "cell_type": "code",
   "execution_count": null,
   "id": "dc17fd0a-957d-4bcc-99aa-24de00a7d1ab",
   "metadata": {},
   "outputs": [],
   "source": [
    "# object_retriever = obj_index.as_retriever(similarity_top_k=1)\n",
    "# object_retriever.retrieve(\"llamaindex\")"
   ]
  },
  {
   "cell_type": "markdown",
   "id": "3e026716-a21a-4f15-b271-4b8bd6d378a3",
   "metadata": {},
   "source": [
    "## 3. txt to sql retriever"
   ]
  },
  {
   "cell_type": "code",
   "execution_count": 8,
   "id": "cc12745d-7641-4dca-97bb-89f22b26ba4d",
   "metadata": {},
   "outputs": [],
   "source": [
    "user_input = \"What's the most ordered product?\""
   ]
  },
  {
   "cell_type": "code",
   "execution_count": 9,
   "id": "efe71166-532b-4094-9643-c20abd63e27f",
   "metadata": {},
   "outputs": [],
   "source": [
    "prompt_template = PromptTemplate(\n",
    "    template=SQL_TEMPLATE_STR,\n",
    "    function_mappings={\n",
    "        \"few_shot_examples\": lambda **kwargs: get_few_shot_examples(\n",
    "            embed_model, user_input, fewshot_examples_path, **kwargs\n",
    "        )\n",
    "    },\n",
    ")"
   ]
  },
  {
   "cell_type": "code",
   "execution_count": 10,
   "id": "141433f1-01f7-44fc-b076-5a5e942a72cd",
   "metadata": {},
   "outputs": [
    {
     "name": "stdout",
     "output_type": "stream",
     "text": [
      "INFO:botocore.credentials:Found credentials in environment variables.\n"
     ]
    }
   ],
   "source": [
    "llm = Bedrock(\n",
    "    model=\"anthropic.claude-3-sonnet-20240229-v1:0\",\n",
    "    region_name=region,\n",
    "    max_tokens=1024,\n",
    "    temperature=0,\n",
    ")\n",
    "\n",
    "query_engine = SQLTableRetrieverQueryEngine(\n",
    "    sql_database,\n",
    "    obj_index.as_retriever(similarity_top_k=10),\n",
    "    text_to_sql_prompt=prompt_template,\n",
    "    response_synthesis_prompt=Prompt(RESPONSE_TEMPLATE_STR),\n",
    "    llm=llm,\n",
    ")"
   ]
  },
  {
   "cell_type": "code",
   "execution_count": 13,
   "id": "859e659c-eb1b-4770-95ef-fe0f9c4546d3",
   "metadata": {},
   "outputs": [
    {
     "name": "stdout",
     "output_type": "stream",
     "text": [
      "INFO:llama_index.core.indices.struct_store.sql_retriever:> Table desc str: Table 'products' has columns: productid (BIGINT), productnumber (VARCHAR): 'Uniquely identifies a product within an ERP system', productname (VARCHAR), modelname (VARCHAR), makeflag (VARCHAR), standardcost (FLOAT), listprice (FLOAT), subcategoryid (BIGINT), . The table description is: Products are supplied by vendors. Products belong to subcategories\n",
      "\n",
      "Table 'orders' has columns: salesorderid (BIGINT), salesorderdetailid (BIGINT), orderdate (VARCHAR), duedate (VARCHAR), shipdate (VARCHAR), employeeid (BIGINT), customerid (BIGINT), subtotal (FLOAT), taxamt (FLOAT), freight (FLOAT), totaldue (FLOAT), productid (BIGINT), orderqty (BIGINT), unitprice (FLOAT), unitpricediscount (FLOAT), linetotal (FLOAT), . The table description is: Events of customers purchasing from employees\n",
      "\n",
      "Table 'customers' has columns: customerid (BIGINT), firstname (VARCHAR), lastname (VARCHAR), fullname (VARCHAR), . The table description is: Customers purchase products from employees\n",
      "\n",
      "Table 'productcategories' has columns: categoryid (BIGINT), categoryname (VARCHAR), . The table description is: Product categories are made up of multiple product subcategories\n",
      "\n",
      "Table 'productsubcategories' has columns: subcategoryid (BIGINT), categoryid (BIGINT), subcategoryname (VARCHAR), . The table description is: Each product belongs to a product subcategory\n",
      "\n",
      "Table 'vendorproduct' has columns: productid (BIGINT), vendorid (BIGINT), . The table description is: Use this table exclusively when joining with the 'vendors' table. Avoid using it in any other scenarios.\n",
      "\n",
      "Table 'vendors' has columns: vendorid (BIGINT), vendorname (VARCHAR), accountnumber (VARCHAR), creditrating (BIGINT), activeflag (VARCHAR), . The table description is: Vendors supply products\n",
      "\n",
      "Table 'employees' has columns: employeeid (BIGINT), managerid (BIGINT), firstname (VARCHAR), lastname (VARCHAR), fullname (VARCHAR), jobtitle (VARCHAR), organizationlevel (BIGINT), maritalstatus (VARCHAR), gender (VARCHAR), territory (VARCHAR), country (VARCHAR), group (VARCHAR), . The table description is: Employees sell products to customers\n",
      "INFO:root:Example set provided:\n",
      "Example_input_question: Total number of products supplied by each vendor\n",
      "Example_output_query: SELECT v.vendorname, COUNT(p.productid) AS total_products FROM vendors v JOIN vendorproduct vp ON v.vendorid = vp.vendorid JOIN products p ON vp.productid = p.productid GROUP BY v.vendorname\n",
      "\n",
      "Example_input_question: List all products along with their category and subcategory names\n",
      "Example_output_query: SELECT p.productname, p.productnumber, psc.subcategoryname, pc.categoryname FROM products p JOIN productsubcategories psc ON p.subcategoryid = psc.subcategoryid JOIN productcategories pc ON psc.categoryid = pc.categoryid\n"
     ]
    }
   ],
   "source": [
    "response = query_engine.query(user_input)"
   ]
  },
  {
   "cell_type": "code",
   "execution_count": 14,
   "id": "adc23fca-8812-46bf-ac94-667796da1af9",
   "metadata": {},
   "outputs": [
    {
     "data": {
      "text/plain": [
       "Response(response=\"According to the latest information, the most ordered product is the 'Long-Sleeve Logo Jersey, L' with a total order quantity of 6,140.\", source_nodes=[NodeWithScore(node=TextNode(id_='4884f111-d969-4680-a7d7-23a95bdffa23', embedding=None, metadata={'sql_query': 'SELECT p.productname, SUM(o.orderqty) AS total_ordered\\nFROM orders o\\nJOIN products p ON o.productid = p.productid\\nGROUP BY p.productname\\nORDER BY total_ordered DESC\\nLIMIT 1;', 'result': [('Long-Sleeve Logo Jersey, L', 6140)], 'col_keys': ['productname', 'total_ordered']}, excluded_embed_metadata_keys=['sql_query', 'result', 'col_keys'], excluded_llm_metadata_keys=['sql_query', 'result', 'col_keys'], relationships={}, text=\"[('Long-Sleeve Logo Jersey, L', 6140)]\", mimetype='text/plain', start_char_idx=None, end_char_idx=None, text_template='{metadata_str}\\n\\n{content}', metadata_template='{key}: {value}', metadata_seperator='\\n'), score=None)], metadata={'4884f111-d969-4680-a7d7-23a95bdffa23': {'sql_query': 'SELECT p.productname, SUM(o.orderqty) AS total_ordered\\nFROM orders o\\nJOIN products p ON o.productid = p.productid\\nGROUP BY p.productname\\nORDER BY total_ordered DESC\\nLIMIT 1;', 'result': [('Long-Sleeve Logo Jersey, L', 6140)], 'col_keys': ['productname', 'total_ordered']}, 'sql_query': 'SELECT p.productname, SUM(o.orderqty) AS total_ordered\\nFROM orders o\\nJOIN products p ON o.productid = p.productid\\nGROUP BY p.productname\\nORDER BY total_ordered DESC\\nLIMIT 1;', 'result': [('Long-Sleeve Logo Jersey, L', 6140)], 'col_keys': ['productname', 'total_ordered']})"
      ]
     },
     "execution_count": 14,
     "metadata": {},
     "output_type": "execute_result"
    }
   ],
   "source": [
    "response"
   ]
  },
  {
   "cell_type": "code",
   "execution_count": 15,
   "id": "62ef7087-33c5-4c12-84f1-d01a8f4bab0a",
   "metadata": {},
   "outputs": [
    {
     "name": "stdout",
     "output_type": "stream",
     "text": [
      "According to the latest information, the most ordered product is the 'Long-Sleeve Logo Jersey, L' with a total order quantity of 6,140.\n"
     ]
    }
   ],
   "source": [
    "print(response)"
   ]
  },
  {
   "cell_type": "code",
   "execution_count": 16,
   "id": "c02a1cf5-9072-4523-935d-67eced1a4429",
   "metadata": {},
   "outputs": [
    {
     "name": "stdout",
     "output_type": "stream",
     "text": [
      "SELECT p.productname, SUM(o.orderqty) AS total_ordered\n",
      "FROM orders o\n",
      "JOIN products p ON o.productid = p.productid\n",
      "GROUP BY p.productname\n",
      "ORDER BY total_ordered DESC\n",
      "LIMIT 1;\n"
     ]
    }
   ],
   "source": [
    "print(response.metadata[\"sql_query\"])"
   ]
  },
  {
   "cell_type": "code",
   "execution_count": null,
   "id": "0049598c-9be3-45b9-b5cf-7a71cec9f0e5",
   "metadata": {},
   "outputs": [],
   "source": []
  }
 ],
 "metadata": {
  "kernelspec": {
   "display_name": "Python 3 (ipykernel)",
   "language": "python",
   "name": "python3"
  },
  "language_info": {
   "codemirror_mode": {
    "name": "ipython",
    "version": 3
   },
   "file_extension": ".py",
   "mimetype": "text/x-python",
   "name": "python",
   "nbconvert_exporter": "python",
   "pygments_lexer": "ipython3",
   "version": "3.10.9"
  }
 },
 "nbformat": 4,
 "nbformat_minor": 5
}
